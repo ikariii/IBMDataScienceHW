{
 "cells": [
  {
   "cell_type": "markdown",
   "id": "a2195921-238a-4791-8116-74ef90670852",
   "metadata": {},
   "source": [
    "# Data Science Tools and Ecosystem"
   ]
  },
  {
   "cell_type": "markdown",
   "id": "150495e2-37a6-4c34-946d-bd4cbe23639d",
   "metadata": {},
   "source": [
    "In this notebook, Data Science Tools and Ecosystem are summarized."
   ]
  },
  {
   "cell_type": "markdown",
   "id": "e583ac04-7995-485f-9e6f-132cc30e5c14",
   "metadata": {},
   "source": [
    "Some of the popular languages that Data Scientists use are:"
   ]
  },
  {
   "cell_type": "markdown",
   "id": "71a65802-0a42-44c9-b606-f0a5207e6ae9",
   "metadata": {},
   "source": [
    "1. Python\n",
    "2. R\n",
    "3. Java"
   ]
  },
  {
   "cell_type": "markdown",
   "id": "9c1a3a7d-8a0a-41eb-8147-2c9803b201e7",
   "metadata": {},
   "source": [
    "Some of the commonly used libraries used by Data Scientists include:"
   ]
  },
  {
   "cell_type": "markdown",
   "id": "c185d5a0-7567-43a6-82d2-2869473078a7",
   "metadata": {},
   "source": [
    "1. Pandas\n",
    "2. Numpy\n",
    "3. Keras"
   ]
  },
  {
   "cell_type": "markdown",
   "id": "0b283ae8-d838-4e36-b166-9ccd196680ad",
   "metadata": {},
   "source": [
    "| Data Management |\n",
    "| --- | \n",
    "| MySQL | \n",
    "| PostgreSQL |  \n",
    "| MongoDB | "
   ]
  },
  {
   "cell_type": "markdown",
   "id": "3ce7172f-d645-442a-99d3-743887b3c382",
   "metadata": {},
   "source": [
    "### Below are a few examples of evaluating arithmetic expressions in Python."
   ]
  },
  {
   "cell_type": "code",
   "execution_count": 1,
   "id": "f63ccedd-11d1-43de-b5dd-6006c81f7518",
   "metadata": {
    "tags": []
   },
   "outputs": [
    {
     "data": {
      "text/plain": [
       "17"
      ]
     },
     "execution_count": 1,
     "metadata": {},
     "output_type": "execute_result"
    }
   ],
   "source": [
    "# This a simple arithmetic expression to mutiply then add integers\n",
    "(3*4)+5"
   ]
  },
  {
   "cell_type": "code",
   "execution_count": 2,
   "id": "1a9381df-598d-445b-b0d2-bd9252a327ce",
   "metadata": {
    "tags": []
   },
   "outputs": [
    {
     "data": {
      "text/plain": [
       "3.3333333333333335"
      ]
     },
     "execution_count": 2,
     "metadata": {},
     "output_type": "execute_result"
    }
   ],
   "source": [
    "# This will convert 200 minutes to hours by diving by 60\n",
    "200/60"
   ]
  },
  {
   "cell_type": "markdown",
   "id": "4776ed26-ef19-43b1-9eed-2ea0fcd21346",
   "metadata": {},
   "source": [
    "**Objectives**\n",
    "- Practice using markdown\n",
    "- Practice using column\n",
    "- Practice add comments"
   ]
  },
  {
   "cell_type": "markdown",
   "id": "48a5ca21-acab-43c3-826b-464a289449cb",
   "metadata": {},
   "source": [
    "## Author\n",
    "Yanqi Huang"
   ]
  }
 ],
 "metadata": {
  "kernelspec": {
   "display_name": "Python",
   "language": "python",
   "name": "conda-env-python-py"
  },
  "language_info": {
   "codemirror_mode": {
    "name": "ipython",
    "version": 3
   },
   "file_extension": ".py",
   "mimetype": "text/x-python",
   "name": "python",
   "nbconvert_exporter": "python",
   "pygments_lexer": "ipython3",
   "version": "3.7.12"
  }
 },
 "nbformat": 4,
 "nbformat_minor": 5
}
